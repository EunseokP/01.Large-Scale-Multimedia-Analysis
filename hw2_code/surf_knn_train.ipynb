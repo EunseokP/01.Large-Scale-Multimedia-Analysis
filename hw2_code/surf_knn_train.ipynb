{
 "cells": [
  {
   "cell_type": "code",
   "execution_count": null,
   "metadata": {},
   "outputs": [],
   "source": [
    "import glob\n",
    "import pandas as pd\n",
    "import numpy as np\n",
    "import os\n",
    "import re\n",
    "# import cPickle\n",
    "import pickle\n",
    "from sklearn.svm import SVC\n",
    "from sklearn.metrics.pairwise import chi2_kernel\n",
    "from sklearn.cluster.k_means_ import KMeans\n",
    "import sys\n",
    "from sklearn.ensemble import AdaBoostClassifier, GradientBoostingClassifier\n",
    "# import xgboost as xgb\n",
    "from xgboost import XGBClassifier\n",
    "from sklearn.metrics import average_precision_score\n",
    "import time"
   ]
  },
  {
   "cell_type": "code",
   "execution_count": null,
   "metadata": {},
   "outputs": [],
   "source": [
    "filelist = glob.glob('./surf/*.pkl')"
   ]
  },
  {
   "cell_type": "code",
   "execution_count": null,
   "metadata": {},
   "outputs": [],
   "source": [
    "np.random.seed(112)\n",
    "n = len(filelist)\n",
    "idx = np.random.choice(n, np.int(n*0.1))\n"
   ]
  },
  {
   "cell_type": "code",
   "execution_count": null,
   "metadata": {},
   "outputs": [],
   "source": [
    "sample_file = []\n",
    "for i in idx:\n",
    "    sample_file.append(filelist[i])"
   ]
  },
  {
   "cell_type": "code",
   "execution_count": null,
   "metadata": {},
   "outputs": [],
   "source": [
    "# sample_dict = dict()\n",
    "n_frames = 20\n",
    "sample_list = []\n",
    "n_datasets = 100\n",
    "print(\"========== Start to create knn datamart by using {} raw datasets ==========\".format(n_datasets))\n",
    "# for i in range(len(sample_file)):\n",
    "for i in range(n_datasets):\n",
    "    with open(sample_file[i], 'rb') as f:\n",
    "        try:\n",
    "            data = pickle.load(f)\n",
    "            if len(data) != 0:\n",
    "                foo_list = []\n",
    "                rsr_idx = np.random.choice(len(data), n_frames)\n",
    "                for idx in rsr_idx:\n",
    "                    if len(data[idx].shape) == 3:\n",
    "                        foo_list.append(data[idx][0])\n",
    "                    else:\n",
    "                        pass\n",
    "            else:\n",
    "                print('{}th Pickle is Empty!! Skipping it!!'.format(i))                    \n",
    "            add = np.concatenate(foo_list, axis = 0)\n",
    "            sample_list.append(add)\n",
    "        except EOFError:\n",
    "            pass\n",
    "    if i % 20 == 0:\n",
    "        print('========== {}th step is completed! =========='.format(i))\n",
    "    else:\n",
    "        pass\n",
    "print(\"========== Ready to do KNN model by using knn datamart ==========\")\n",
    "knn_mart = np.concatenate(sample_list, axis = 0)"
   ]
  },
  {
   "cell_type": "code",
   "execution_count": null,
   "metadata": {},
   "outputs": [],
   "source": [
    "output_file = './kmeans'\n",
    "output_file+'knn_model'"
   ]
  },
  {
   "cell_type": "code",
   "execution_count": null,
   "metadata": {},
   "outputs": [],
   "source": [
    "os.path.join(output_file, 'knn_{}_model.sav'.format(n_clusters))"
   ]
  },
  {
   "cell_type": "code",
   "execution_count": null,
   "metadata": {},
   "outputs": [],
   "source": [
    "#### Test for making create.py file, you could ignore it ####\n",
    "output_file = './kmeans'\n",
    "start_time = time.time()\n",
    "n_clusters = 5\n",
    "output_file = './kmeans'\n",
    "n_init = 5\n",
    "model = KMeans(n_clusters = n_clusters, random_state = 0, n_init = n_init, n_jobs = -1).fit(knn_mart)\n",
    "filename = os.path.join(output_file, 'knn_{}_model.sav'.format(n_clusters))\n",
    "pickle.dump(model, open(filename, 'wb'))\n",
    "print('knn-{} model: {} time is consumping!!!'.format(n_clusters, time.time()-start_time))\n",
    "print('The model is sotred at here: {}'.format(filename))"
   ]
  },
  {
   "cell_type": "code",
   "execution_count": null,
   "metadata": {},
   "outputs": [],
   "source": [
    "knn_mart.shape"
   ]
  },
  {
   "cell_type": "code",
   "execution_count": null,
   "metadata": {},
   "outputs": [],
   "source": [
    "cluster_list = [5, 50, 100, 200]\n",
    "for k in cluster_list:\n",
    "    start_time = time.time()\n",
    "    n_clusters = k\n",
    "    output_file = './kmeans/knn_{}_model'.format(n_clusters)\n",
    "    n_init = 5\n",
    "    model = KMeans(n_clusters = n_clusters, random_state = 0, n_init = n_init, n_jobs = -1).fit(knn_mart)\n",
    "    filename = output_file+'.sav'\n",
    "    pickle.dump(model, open(filename, 'wb'))\n",
    "    print('knn-{} model: {} time is consumping!!!'.format(k, time.time()-start_time))"
   ]
  },
  {
   "cell_type": "code",
   "execution_count": null,
   "metadata": {},
   "outputs": [],
   "source": [
    "model"
   ]
  }
 ],
 "metadata": {
  "kernelspec": {
   "display_name": "Python 3",
   "language": "python",
   "name": "python3"
  },
  "language_info": {
   "codemirror_mode": {
    "name": "ipython",
    "version": 3
   },
   "file_extension": ".py",
   "mimetype": "text/x-python",
   "name": "python",
   "nbconvert_exporter": "python",
   "pygments_lexer": "ipython3",
   "version": "3.6.6"
  }
 },
 "nbformat": 4,
 "nbformat_minor": 2
}
